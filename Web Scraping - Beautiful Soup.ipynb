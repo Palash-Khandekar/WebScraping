{
 "cells": [
  {
   "cell_type": "markdown",
   "metadata": {},
   "source": [
    "## Name: Palash Khandekar\n",
    "## SMU ID: 47497974\n",
    "## Quest 3\n"
   ]
  },
  {
   "cell_type": "markdown",
   "metadata": {},
   "source": [
    "## Part A. Beautiful Soup "
   ]
  },
  {
   "cell_type": "code",
   "execution_count": 39,
   "metadata": {},
   "outputs": [],
   "source": [
    "import bs4\n",
    "from bs4 import BeautifulSoup\n",
    "import requests\n",
    "import matplotlib.pyplot as plt"
   ]
  },
  {
   "cell_type": "code",
   "execution_count": 40,
   "metadata": {},
   "outputs": [],
   "source": [
    "url = \"https://www.nasdaq.com/quotes/stock-quotes.aspx\"\n",
    "url_get = requests.get(url)\n",
    "soup = BeautifulSoup(url_get.content, \"html.parser\")"
   ]
  },
  {
   "cell_type": "code",
   "execution_count": 41,
   "metadata": {},
   "outputs": [
    {
     "name": "stdout",
     "output_type": "stream",
     "text": [
      "13\n",
      "3\n"
     ]
    }
   ],
   "source": [
    "divNode = soup.find('div', {'class':'genTable marginL15px'}).find('table')\n",
    "childList = list(divNode.children)\n",
    "print(len(childList))\n",
    "childList = [x for x in childList if type(x) == bs4.element.Tag]\n",
    "print(len(childList[1]))"
   ]
  },
  {
   "cell_type": "code",
   "execution_count": 42,
   "metadata": {},
   "outputs": [
    {
     "name": "stdout",
     "output_type": "stream",
     "text": [
      "['Micron Technology, Inc.', 'Invesco QQQ Trust, Series 1\\nInvesco QQQ Trust, Series 1', 'Apple Inc.', 'Marvell Technology Group Ltd.', 'JD.com, Inc.']\n",
      "['45,632,121 ', '40,453,097 ', '35,791,794 ', '35,454,503 ', '24,782,813 ']\n",
      "['0.21\\xa0▲\\xa00.47% ', '0.70\\xa0▼\\xa00.39% ', '1.80\\xa0▼\\xa00.81% ', '0.01\\xa0▼\\xa00.05% ', '0.30\\xa0▼\\xa01.10% ']\n"
     ]
    }
   ],
   "source": [
    "nameList = []\n",
    "volumeList = []\n",
    "netchangeList = []\n",
    "companyName = []\n",
    "share = []\n",
    "change = []\n",
    "\n",
    "\n",
    "for child in childList:\n",
    "    tdlist = child.find_all('td')\n",
    "\n",
    "    if (len(tdlist) > 0):\n",
    "        name = tdlist[0].getText().strip('\\n')\n",
    "        volume = tdlist[3].getText().strip('\\n').strip('')\n",
    "        netchange = tdlist[2].getText().strip('\\n')\n",
    "        nameList.append(name)\n",
    "        volumeList.append(volume)\n",
    "        netchangeList.append(netchange)\n",
    "\n",
    "print(nameList)\n",
    "print(volumeList)\n",
    "print(netchangeList)"
   ]
  },
  {
   "cell_type": "code",
   "execution_count": 43,
   "metadata": {},
   "outputs": [
    {
     "name": "stdout",
     "output_type": "stream",
     "text": [
      "['Micron Technology', 'Invesco QQQ Trust', 'Apple Inc.', 'Marvell Technology Group Ltd.', 'JD.com']\n"
     ]
    }
   ],
   "source": [
    "for company in nameList:\n",
    "    nameList = company.split(',')[0]\n",
    "    companyName.append(nameList)\n",
    "print(companyName)"
   ]
  },
  {
   "cell_type": "code",
   "execution_count": 44,
   "metadata": {},
   "outputs": [
    {
     "name": "stdout",
     "output_type": "stream",
     "text": [
      "[45632121, 40453097, 35791794, 35454503, 24782813]\n"
     ]
    }
   ],
   "source": [
    "for vol in volumeList:\n",
    "    volumeList = vol.replace(',','')\n",
    "    share.append(int(volumeList))\n",
    "print(share)"
   ]
  },
  {
   "cell_type": "code",
   "execution_count": 45,
   "metadata": {},
   "outputs": [
    {
     "name": "stdout",
     "output_type": "stream",
     "text": [
      "[0.47, -0.39, -0.81, -0.05, -1.1]\n"
     ]
    }
   ],
   "source": [
    "for percent in netchangeList:\n",
    "    if \"▼\" in percent:\n",
    "        percent = percent.strip(' ')[-5:-1]\n",
    "        change.append(float(\"-\" + percent))\n",
    "        \n",
    "    else:\n",
    "        percent = percent.strip(' ')[-5:-1]\n",
    "        change.append(float(percent))\n",
    "\n",
    "print(change)"
   ]
  },
  {
   "cell_type": "code",
   "execution_count": 48,
   "metadata": {},
   "outputs": [
    {
     "data": {
      "image/png": "[encoded data removed]",
      "text/plain": [
       "<Figure size 432x288 with 1 Axes>"
      ]
     },
     "metadata": {},
     "output_type": "display_data"
    }
   ],
   "source": [
    "x = companyName\n",
    "y = share\n",
    "x_pos = [i for i, _ in enumerate(x)]\n",
    "plt.bar(x, y, color = 'green')\n",
    "plt.xticks(x_pos, x, rotation=90)\n",
    "plt.xlabel(\"Companies\")\n",
    "plt.ylabel(\"Volume\")\n",
    "plt.title(\"Most active on Sep 8,2018\")\n",
    "plt.show()"
   ]
  },
  {
   "cell_type": "code",
   "execution_count": 49,
   "metadata": {},
   "outputs": [
    {
     "data": {
      "image/png": "[encoded data removed]",
      "text/plain": [
       "<Figure size 432x288 with 1 Axes>"
      ]
     },
     "metadata": {},
     "output_type": "display_data"
    }
   ],
   "source": [
    "x = companyName\n",
    "y = change\n",
    "plt.bar(x, y, color = 'blue')\n",
    "plt.xticks(x_pos, x, rotation=90)\n",
    "plt.xlabel(\"Companies\")\n",
    "plt.ylabel(\"Percent Change\")\n",
    "plt.title(\"Percentage change Sep 8,2018\")\n",
    "plt.show()"
   ]
  },
  {
   "cell_type": "markdown",
   "metadata": {},
   "source": [
    "## Part B. Timing Comparison"
   ]
  },
  {
   "cell_type": "code",
   "execution_count": 54,
   "metadata": {},
   "outputs": [],
   "source": [
    "from collections import Counter\n",
    "import timeit"
   ]
  },
  {
   "cell_type": "code",
   "execution_count": 59,
   "metadata": {},
   "outputs": [],
   "source": [
    "def wordsInStringToDictWordCount(s):\n",
    "    list = s.split(\" \")\n",
    "    temp ={}\n",
    "    for i in range(len(list)):\n",
    "        if list[i] != \"\":\n",
    "            if list[i] not in temp:\n",
    "                temp[list[i]]=1\n",
    "            else:\n",
    "                temp[list[i]] = temp[list[i]]+1\n",
    "\n",
    "    print(temp)\n",
    "\n",
    "def wordsInStringToDictWordCountWithCounter(s):\n",
    "    print(Counter(s.split()))\n",
    "    \n",
    "def wrapper(func, *args, **kwargs):\n",
    "    def wrapped():\n",
    "        return func(*args, **kwargs)\n",
    "    return wrapped"
   ]
  },
  {
   "cell_type": "code",
   "execution_count": 60,
   "metadata": {},
   "outputs": [
    {
     "name": "stdout",
     "output_type": "stream",
     "text": [
      "{'hello': 2, 'world': 1}\n",
      "Counter({'hello': 2, 'world': 1})\n"
     ]
    }
   ],
   "source": [
    "arg = \"hello hello world\"\n",
    "\n",
    "wordsInStringToDictWordCount(arg)\n",
    "wordsInStringToDictWordCountWithCounter(arg)"
   ]
  },
  {
   "cell_type": "code",
   "execution_count": 62,
   "metadata": {
    "scrolled": true
   },
   "outputs": [
    {
     "name": "stdout",
     "output_type": "stream",
     "text": [
      "{'hello': 2, 'world': 1}\n"
     ]
    },
    {
     "data": {
      "text/plain": [
       "0.00026657212038116995"
      ]
     },
     "execution_count": 62,
     "metadata": {},
     "output_type": "execute_result"
    }
   ],
   "source": [
    "stringTodict = wrapper(wordsInStringToDictWordCount, arg)\n",
    "timeit.timeit(stringTodict, number = 1)\n"
   ]
  },
  {
   "cell_type": "code",
   "execution_count": 63,
   "metadata": {},
   "outputs": [
    {
     "name": "stdout",
     "output_type": "stream",
     "text": [
      "Counter({'hello': 2, 'world': 1})\n"
     ]
    },
    {
     "data": {
      "text/plain": [
       "0.00034095555884050555"
      ]
     },
     "execution_count": 63,
     "metadata": {},
     "output_type": "execute_result"
    }
   ],
   "source": [
    "stringTodict_withoutCounter = wrapper(wordsInStringToDictWordCountWithCounter, arg)\n",
    "timeit.timeit(stringTodict_withoutCounter, number = 1)"
   ]
  },
  {
   "cell_type": "markdown",
   "metadata": {},
   "source": [
    "reading  100,000 words from a file "
   ]
  },
  {
   "cell_type": "code",
   "execution_count": null,
   "metadata": {},
   "outputs": [],
   "source": [
    "file = open(\"example.txt\", 'r')\n",
    "lines = file.readlines()\n",
    "terms = ''.join(lines)"
   ]
  },
  {
   "cell_type": "code",
   "execution_count": 65,
   "metadata": {},
   "outputs": [
    {
     "name": "stdout",
     "output_type": "stream",
     "text": [
      "{'Lorem': 91, 'ipsum': 600, 'dolor': 450, 'sit': 1240, 'amet,': 230, 'consectetur': 320, 'adipiscing': 100, 'elit.': 230, 'Aliquam': 540, 'purus': 420, 'mauris,': 100, 'varius': 440, 'eget': 870, 'semper': 500, 'fringilla': 480, 'ut': 1080, 'felis.': 130, 'Vivamus': 400, 'tortor': 420, 'nisl,': 120, 'elementum': 440, 'nec': 1140, 'diam': 420, 'vel,': 170, 'ornare': 420, 'convallis': 340, 'diam.': 100, 'erat': 450, 'volutpat.': 90, 'Sed': 800, 'at': 1190, 'ultrices,': 60, 'cursus': 300, 'risus': 420, 'non,': 110, 'maximus': 400, 'dolor.': 190, 'feugiat': 390, 'congue': 340, 'est': 380, 'non': 1000, 'viverra.': 160, 'Maecenas': 540, 'quam': 340, 'et': 1150, 'nunc': 370, 'mollis': 480, 'venenatis.': 20, 'Duis': 280, 'imperdiet': 250, 'eu': 970, 'tellus': 360, 'fermentum.': 40, 'Donec': 700, 'eleifend': 400, 'luctus': 420, 'orci': 560, 'quis': 1080, 'convallis.\\n\\nVestibulum': 10, 'condimentum,': 30, 'rhoncus': 360, 'magna': 440, 'vitae,': 130, 'suscipit': 310, 'Nulla': 450, 'scelerisque': 270, 'mauris': 440, 'mattis': 310, 'mattis.': 40, 'Cras': 420, 'vitae': 1060, 'dui': 520, 'nisl': 350, 'consequat': 300, 'rhoncus.': 90, 'In': 390, 'orci,': 100, 'sodales': 440, 'iaculis': 360, 'arcu.': 170, 'augue': 470, 'erat,': 80, 'vel': 1020, 'ullamcorper': 330, 'libero': 480, 'tristique': 420, 'amet.': 80, 'Nunc': 360, 'tristique,': 40, 'lacus': 350, 'iaculis,': 30, 'sem,': 130, 'euismod': 430, 'massa': 430, 'nibh': 380, 'leo.': 110, 'Orci': 70, 'natoque': 80, 'penatibus': 80, 'magnis': 80, 'dis': 80, 'parturient': 80, 'montes,': 80, 'nascetur': 80, 'ridiculus': 80, 'mus.': 70, 'Fusce': 430, 'viverra': 330, 'id': 1080, 'lectus': 440, 'tempus.': 40, 'ac': 1230, 'eros.': 140, 'Suspendisse': 440, 'sollicitudin': 330, 'blandit': 510, 'odio,': 100, 'in': 1270, 'tincidunt': 790, 'arcu': 310, 'eget.\\n\\nPhasellus': 10, 'bibendum': 300, 'felis': 440, 'magna,': 30, 'vulputate': 360, 'hendrerit': 500, 'pharetra': 250, 'quam.': 120, 'sem': 380, 'ligula,': 120, 'porttitor': 390, 'ac,': 90, 'pulvinar': 290, 'dui.': 130, 'auctor': 240, 'facilisis': 400, 'sapien': 380, 'Integer': 420, 'ex': 350, 'magna.': 150, 'lorem': 470, 'ante': 550, 'iaculis.': 60, 'volutpat': 290, 'Aenean': 410, 'dictum': 270, 'neque': 360, 'tincidunt.\\n\\nCurabitur': 10, 'sodales,': 50, 'urna': 340, 'tincidunt,': 90, 'commodo': 400, 'nisi': 380, 'lobortis': 400, 'Ut': 380, 'lacinia': 330, 'Praesent': 410, 'nunc.': 130, 'Pellentesque': 440, 'a': 990, 'diam,': 60, 'elit': 370, 'sed,': 170, 'efficitur': 340, 'Morbi': 320, 'libero,': 100, 'sed': 990, 'tempus': 400, 'orci.': 170, 'Vestibulum': 430, 'pellentesque': 420, 'tristique.': 100, 'lacinia,': 70, 'in,': 140, 'Nam': 290, 'finibus': 330, 'vehicula': 320, 'egestas.': 100, 'Quisque': 440, 'rhoncus,': 30, 'ornare.': 100, 'volutpat.\\n\\nDonec': 10, 'molestie,': 50, 'accumsan': 350, 'odio.': 110, 'turpis.': 140, 'mi': 290, 'molestie': 380, 'sagittis.': 110, 'venenatis': 390, 'urna,': 150, 'nulla': 440, 'malesuada': 490, 'et.': 40, 'Proin': 520, 'porta': 510, 'velit,': 70, 'ultricies': 380, 'tellus.': 100, 'lacus.': 90, 'velit': 440, 'massa,': 150, 'justo': 450, 'a.': 60, 'eros': 490, 'volutpat,': 70, 'tincidunt.': 190, 'aliquet': 350, 'amet': 920, 'faucibus.\\n\\nSed': 10, 'turpis,': 80, 'id.': 70, 'lectus,': 110, 'et,': 110, 'risus.': 110, 'vestibulum': 320, 'hendrerit.': 80, 'turpis': 440, 'interdum,': 40, 'lacinia.\\n\\nSuspendisse': 10, 'eleifend.': 80, 'Mauris': 320, 'est,': 90, 'nibh.': 100, 'Phasellus': 350, 'semper.': 80, 'eu,': 70, 'nibh,': 110, 'ultrices': 390, 'mauris.': 130, 'posuere.': 40, 'purus.': 100, 'aliquam': 390, 'sodales.': 40, 'interdum': 330, 'ex.\\n\\nPhasellus': 10, 'leo': 400, 'est.': 130, 'interdum.': 90, 'risus,': 90, 'nisi.': 120, 'enim': 320, 'finibus.': 20, 'elementum,': 50, 'posuere': 450, 'condimentum.': 70, 'euismod.': 30, 'Etiam': 370, 'tempor': 250, 'vulputate.': 70, 'purus,': 90, 'non.\\n\\nInteger': 10, 'pharetra,': 40, 'metus': 470, 'metus.': 120, 'laoreet': 310, 'dapibus': 350, 'ultricies.': 10, 'Nullam': 350, 'nulla,': 110, 'ex.': 60, 'imperdiet.': 40, 'facilisis,': 60, 'gravida': 340, 'ligula': 400, 'rutrum,': 40, 'id,': 90, 'nisl.': 150, 'dui,': 80, 'sagittis': 400, 'nec,': 130, 'lectus.': 120, 'faucibus': 360, 'accumsan.': 50, 'odio': 390, 'felis,': 80, 'pretium': 300, 'ante.': 100, 'pretium.\\n\\nNulla': 10, 'vestibulum,': 60, 'a,': 100, 'ultricies,': 50, 'vestibulum.': 30, 'massa.': 140, 'malesuada,': 40, 'tellus,': 110, 'tortor.': 140, 'quam.\\n\\nPellentesque': 10, 'laoreet,': 30, 'facilisis.': 90, 'lacus,': 120, 'consequat,': 40, 'lorem.': 160, 'velit.': 130, 'neque,': 110, 'sapien.': 180, 'fringilla.': 70, 'cursus,': 30, 'luctus.\\n\\nAliquam': 10, 'egestas': 310, 'consectetur.': 60, 'leo,': 50, 'eget,': 60, 'augue.': 120, 'efficitur.': 90, 'vehicula,': 20, 'placerat': 270, 'nulla.': 140, 'eu.': 120, 'condimentum': 260, 'nec.': 60, 'vitae.': 70, 'nisi,': 110, 'pretium.': 50, 'orci.\\n\\nIn': 10, 'laoreet.': 70, 'fermentum': 410, 'urna.': 150, 'sapien,': 100, 'potenti.': 40, 'pharetra.\\n\\nPhasellus': 10, 'at,': 100, 'pulvinar.': 70, 'aliquam.': 30, 'maximus,': 80, 'quis,': 170, 'Curabitur': 250, 'ut,': 140, 'sem.': 200, 'elementum.': 100, 'turpis.\\n\\nPhasellus': 10, 'in.': 80, 'vehicula.': 50, 'malesuada.\\n\\nNam': 10, 'dignissim': 340, 'feugiat,': 100, 'placerat.': 50, 'pulvinar,': 40, 'enim.': 120, 'lacinia.': 40, 'libero.\\n\\nFusce': 10, 'efficitur,': 50, 'porta.': 80, 'lobortis.': 50, 'aliquet.': 70, 'lorem,': 70, 'lacus.\\n\\nEtiam': 10, 'erat.': 120, 'arcu,': 110, 'ex,': 160, 'Interdum': 50, 'fames': 80, 'primis': 120, 'faucibus.': 110, 'a.\\n\\nUt': 10, 'justo,': 80, 'auctor.': 80, 'mollis.': 70, 'rutrum': 290, 'consectetur,': 70, 'justo.': 170, 'luctus.': 60, 'porta.\\n\\nOrci': 10, 'tempor.': 50, 'porttitor.': 80, 'lectus.\\n\\nNulla': 10, 'imperdiet,': 20, 'ac.': 60, 'mi,': 70, 'eget.': 90, 'suscipit,': 60, 'magna.\\n\\nMorbi': 10, 'pellentesque,': 40, 'ut.': 80, 'auctor,': 30, 'ligula.': 140, 'metus.\\n\\nMorbi': 10, 'blandit.': 100, 'varius.': 80, 'vel.': 20, 'bibendum.': 60, 'ullamcorper.\\n\\nQuisque': 10, 'congue,': 60, 'faucibus,': 50, 'interdum.\\n\\nPraesent': 10, 'scelerisque,': 20, 'ullamcorper.': 60, 'enim,': 40, 'diam.\\n\\nNulla': 10, 'pretium,': 30, 'aliquet,': 60, 'ipsum.': 120, 'gravida.': 80, 'elit,': 70, 'felis.\\n\\nInteger': 10, 'consequat.': 60, 'malesuada.\\n\\nPraesent': 10, 'libero.': 80, 'tempus,': 10, 'mi.': 80, 'mauris.\\n\\nSuspendisse': 10, 'augue,': 80, 'suscipit.': 40, 'finibus,': 60, 'Class': 60, 'aptent': 60, 'taciti': 60, 'sociosqu': 60, 'ad': 60, 'litora': 60, 'torquent': 60, 'per': 120, 'conubia': 60, 'nostra,': 60, 'inceptos': 60, 'himenaeos.': 50, 'dolor,': 120, 'nibh.\\n\\nFusce': 10, 'commodo,': 50, 'convallis.': 60, 'ipsum,': 150, 'cursus.': 50, 'dictum,': 50, 'rutrum.': 40, 'eros,': 50, 'non.\\n\\nDonec': 10, 'accumsan,': 30, 'viverra.\\n\\nSed': 10, 'sed.': 70, 'ornare,': 30, 'dapibus.\\n\\nNulla': 10, 'luctus,': 60, 'pharetra.': 50, 'dapibus.\\n\\nCras': 10, 'feugiat.': 90, 'convallis,': 40, 'malesuada.': 40, 'cubilia': 70, 'Curae;\\n\\nMauris': 10, 'maximus.': 70, 'scelerisque.': 30, 'at.': 90, 'tortor,': 60, 'himenaeos.\\n\\nNulla': 10, 'nunc,': 40, 'ultrices.': 70, 'porta,': 50, 'nibh.\\n\\nPellentesque': 10, 'gravida,': 50, 'sollicitudin,': 20, 'tempor,': 60, 'feugiat.\\n\\nSed': 10, 'dictum.': 70, 'quam,': 90, 'dictum.\\n\\nCras': 10, 'eleifend,': 50, 'pellentesque.': 50, 'ante,': 90, 'nunc.\\n\\nNullam': 10, 'porttitor,': 20, 'lobortis,': 20, 'bibendum,': 40, 'velit.\\n\\nAliquam': 10, 'auctor.\\n\\nAliquam': 10, 'hac': 90, 'habitasse': 90, 'platea': 90, 'dictumst.': 90, 'ex.\\n\\nAliquam': 10, 'tempor.\\n\\nPraesent': 10, 'varius,': 20, 'fringilla,': 20, 'dignissim.': 20, 'nulla.\\n\\nNulla': 10, 'congue.': 50, 'dapibus.': 30, 'fermentum,': 40, 'congue.\\n\\nCurabitur': 20, 'eleifend.\\n\\nPellentesque': 10, 'metus,': 70, 'tincidunt.\\n\\nDonec': 10, 'sollicitudin.': 20, 'sagittis.\\n\\nDuis': 10, 'non.': 40, 'mollis,': 10, 'Curae;': 60, 'lorem.\\n\\nFusce': 10, 'sagittis,': 40, 'neque.': 80, 'nisl.\\n\\nDuis': 10, 'imperdiet.\\n\\nProin': 10, 'tellus.\\n\\nCurabitur': 10, 'vulputate,': 30, 'tincidunt.\\n\\nQuisque': 10, 'quis.': 71, 'posuere,': 40, 'gravida.\\n\\nDonec': 10, 'odio.\\n\\nSuspendisse': 10, 'ullamcorper,': 40, 'viverra,': 10, 'lacinia.\\n\\nSed': 10, 'lacinia.\\n\\nMorbi': 10, 'blandit,': 30, 'eleifend.\\n\\nPhasellus': 10, 'mauris.\\n\\nIn': 10, 'elementum.\\n\\nUt': 10, 'lorem.\\n\\nVivamus': 10, 'aliquam,': 40, 'a.\\n\\nCurabitur': 10, 'elementum.\\n\\nProin': 10, 'mattis,': 30, 'habitant': 30, 'morbi': 30, 'senectus': 30, 'netus': 30, 'arcu.\\n\\nInteger': 10, 'convallis.\\n\\nVivamus': 10, 'nunc.\\n\\nAliquam': 10, 'tortor.\\n\\nAenean': 10, 'venenatis,': 20, 'congue.\\n\\nIn': 10, 'semper,': 50, 'egestas.\\n\\nInteger': 10, 'at.\\n\\nPraesent': 10, 'magna.\\n\\nAenean': 10, 'justo.\\n\\nPellentesque': 10, 'ornare.\\n\\nDonec': 10, 'amet.\\n\\nIn': 10, 'et.\\n\\nEtiam': 10, 'tellus.\\n\\nNam': 10, 'turpis.\\n\\nPellentesque': 10, 'facilisi.': 40, 'eleifend.\\n\\nVivamus': 10, 'tellus.\\n\\nEtiam': 10, 'commodo.': 30, 'a.\\n\\nPraesent': 10, 'tortor.\\n\\nPraesent': 10, 'bibendum.\\n\\nVestibulum': 10, 'dapibus,': 20, 'placerat.\\n\\nCurabitur': 10, 'est.\\n\\nAliquam': 10, 'velit.\\n\\nFusce': 10, 'eu.\\n\\nCras': 10, 'rhoncus.\\n\\nProin': 10, 'euismod,': 10, 'velit.\\n\\nSed': 10, 'elit.\\n\\nPellentesque': 10, 'egestas.\\n\\nSed': 10, 'mi.\\n\\nIn': 10, 'odio.\\n\\nPhasellus': 10, 'felis.\\n\\nMauris': 10, 'turpis.\\n\\nDonec': 10, 'magna.\\n\\nMauris': 10, 'enim.\\n\\nIn': 10, 'dignissim.\\n\\nSed': 10, 'ultrices.\\n\\nUt': 10, 'urna.\\n\\nIn': 10, 'elit.\\n\\nInteger': 10, 'vulputate.\\n\\nMorbi': 10, 'fermentum.\\n\\nCras': 10, 'aliquet.\\n\\nDuis': 10, 'dignissim,': 20, 'tellus.\\n\\nDonec': 10, 'quam.\\n\\nPhasellus': 10, 'molestie.': 10, 'faucibus.\\n\\nVestibulum': 10, 'mus.\\n\\nNullam': 10, 'egestas.\\n\\nUt': 10, 'hendrerit,': 10, 'malesuada.\\n\\nIn': 10, 'mollis.\\n\\nEtiam': 10, 'egestas,': 10, 'volutpat.\\n\\nMaecenas': 10, 'mauris.\\n\\nVestibulum': 10, 'dictum.\\n\\nSed': 10, 'leo.\\n\\nNulla': 10, 'congue.\\n\\nQuisque': 10, 'quis.\\nLorem': 9}\n"
     ]
    }
   ],
   "source": [
    "stringTodict = wrapper(wordsInStringToDictWordCount, terms)\n",
    "stringTodict_time = timeit.timeit(stringTodict, number=1)"
   ]
  },
  {
   "cell_type": "code",
   "execution_count": 66,
   "metadata": {},
   "outputs": [
    {
     "name": "stdout",
     "output_type": "stream",
     "text": [
      "Counter({'in': 1270, 'sit': 1240, 'ac': 1230, 'at': 1190, 'et': 1150, 'nec': 1140, 'ut': 1080, 'quis': 1080, 'id': 1080, 'vitae': 1060, 'vel': 1020, 'non': 1000, 'a': 990, 'sed': 990, 'eu': 970, 'amet': 920, 'Sed': 880, 'eget': 870, 'tincidunt': 790, 'Donec': 770, 'ipsum': 600, 'Aliquam': 600, 'orci': 560, 'Maecenas': 550, 'ante': 550, 'Proin': 550, 'Nulla': 520, 'dui': 520, 'blandit': 510, 'porta': 510, 'semper': 500, 'hendrerit': 500, 'Pellentesque': 500, 'malesuada': 490, 'eros': 490, 'fringilla': 480, 'mollis': 480, 'libero': 480, 'Vestibulum': 470, 'In': 470, 'augue': 470, 'Fusce': 470, 'Suspendisse': 470, 'Integer': 470, 'lorem': 470, 'Praesent': 470, 'Quisque': 470, 'metus': 470, 'Cras': 460, 'dolor': 450, 'erat': 450, 'justo': 450, 'posuere': 450, 'varius': 440, 'elementum': 440, 'magna': 440, 'mauris': 440, 'sodales': 440, 'lectus': 440, 'felis': 440, 'nulla': 440, 'velit': 440, 'turpis': 440, 'Vivamus': 430, 'euismod': 430, 'massa': 430, 'Aenean': 430, 'purus': 420, 'tortor': 420, 'diam': 420, 'ornare': 420, 'risus': 420, 'luctus': 420, 'tristique': 420, 'Phasellus': 420, 'Ut': 420, 'pellentesque': 420, 'Etiam': 410, 'fermentum': 410, 'maximus': 400, 'eleifend': 400, 'facilisis': 400, 'commodo': 400, 'lobortis': 400, 'tempus': 400, 'leo': 400, 'ligula': 400, 'sagittis': 400, 'feugiat': 390, 'porttitor': 390, 'venenatis': 390, 'ultrices': 390, 'aliquam': 390, 'odio': 390, 'est': 380, 'nibh': 380, 'sem': 380, 'sapien': 380, 'nisi': 380, 'molestie': 380, 'ultricies': 380, 'nunc': 370, 'elit': 370, 'Nullam': 370, 'tellus': 360, 'rhoncus': 360, 'iaculis': 360, 'Nunc': 360, 'vulputate': 360, 'neque': 360, 'Morbi': 360, 'faucibus': 360, 'nisl': 350, 'lacus': 350, 'ex': 350, 'accumsan': 350, 'aliquet': 350, 'Mauris': 350, 'dapibus': 350, 'convallis': 340, 'congue': 340, 'quam': 340, 'urna': 340, 'efficitur': 340, 'gravida': 340, 'dignissim': 340, 'ullamcorper': 330, 'viverra': 330, 'sollicitudin': 330, 'lacinia': 330, 'finibus': 330, 'interdum': 330, 'consectetur': 320, 'vehicula': 320, 'vestibulum': 320, 'enim': 320, 'Duis': 310, 'suscipit': 310, 'mattis': 310, 'arcu': 310, 'Curabitur': 310, 'Nam': 310, 'laoreet': 310, 'egestas': 310, 'cursus': 300, 'consequat': 300, 'bibendum': 300, 'pretium': 300, 'pulvinar': 290, 'volutpat': 290, 'mi': 290, 'rutrum': 290, 'scelerisque': 270, 'dictum': 270, 'placerat': 270, 'condimentum': 260, 'elit.': 250, 'imperdiet': 250, 'pharetra': 250, 'tempor': 250, 'auctor': 240, 'amet,': 230, 'tincidunt.': 220, 'sem.': 200, 'dolor.': 190, 'arcu.': 180, 'magna.': 180, 'orci.': 180, 'lorem.': 180, 'sapien.': 180, 'justo.': 180, 'vel,': 170, 'viverra.': 170, 'sed,': 170, 'turpis.': 170, 'quis,': 170, 'mauris.': 160, 'nisl.': 160, 'tortor.': 160, 'velit.': 160, 'urna.': 160, 'ex,': 160, 'felis.': 150, 'nunc.': 150, 'urna,': 150, 'massa,': 150, 'nulla.': 150, 'ipsum,': 150, 'eros.': 140, 'quam.': 140, 'in,': 140, 'tellus.': 140, 'est.': 140, 'massa.': 140, 'ut,': 140, 'ligula.': 140, 'vitae,': 130, 'sem,': 130, 'dui.': 130, 'egestas.': 130, 'odio.': 130, 'faucibus.': 130, 'metus.': 130, 'nec,': 130, 'lectus.': 130, 'eu.': 130, 'enim.': 130, 'nisl,': 120, 'leo.': 120, 'ligula,': 120, 'sagittis.': 120, 'nibh.': 120, 'nisi.': 120, 'lacus,': 120, 'augue.': 120, 'elementum.': 120, 'erat.': 120, 'primis': 120, 'ipsum.': 120, 'per': 120, 'dolor,': 120, 'diam.': 110, 'volutpat.': 110, 'non,': 110, 'ornare.': 110, 'lectus,': 110, 'et,': 110, 'risus.': 110, 'eleifend.': 110, 'nibh,': 110, 'nulla,': 110, 'tellus,': 110, 'neque,': 110, 'nisi,': 110, 'arcu,': 110, 'Lorem': 100, 'adipiscing': 100, 'mauris,': 100, 'rhoncus.': 100, 'orci,': 100, 'odio,': 100, 'eget.': 100, 'libero,': 100, 'tristique.': 100, 'lacus.': 100, 'purus.': 100, 'interdum.': 100, 'ante.': 100, 'a,': 100, 'sapien,': 100, 'at,': 100, 'feugiat,': 100, 'blandit.': 100, 'feugiat.': 100, 'at.': 100, 'amet.': 90, 'ac,': 90, 'tincidunt,': 90, 'a.': 90, 'est,': 90, 'risus,': 90, 'purus,': 90, 'id,': 90, 'facilisis.': 90, 'efficitur.': 90, 'libero.': 90, 'porta.': 90, 'auctor.': 90, 'gravida.': 90, 'mi.': 90, 'dictum.': 90, 'quam,': 90, 'ante,': 90, 'hac': 90, 'habitasse': 90, 'platea': 90, 'dictumst.': 90, 'congue.': 90, 'convallis.': 80, 'erat,': 80, 'Orci': 80, 'natoque': 80, 'penatibus': 80, 'magnis': 80, 'dis': 80, 'parturient': 80, 'montes,': 80, 'nascetur': 80, 'ridiculus': 80, 'mus.': 80, 'turpis,': 80, 'hendrerit.': 80, 'semper.': 80, 'ex.': 80, 'vulputate.': 80, 'dui,': 80, 'felis,': 80, 'maximus,': 80, 'in.': 80, 'aliquet.': 80, 'fames': 80, 'justo,': 80, 'mollis.': 80, 'porttitor.': 80, 'ut.': 80, 'varius.': 80, 'augue,': 80, 'ultrices.': 80, 'neque.': 80, 'quis.': 80, 'lacinia,': 70, 'velit,': 70, 'volutpat,': 70, 'id.': 70, 'lacinia.': 70, 'eu,': 70, 'condimentum.': 70, 'fringilla.': 70, 'luctus.': 70, 'vitae.': 70, 'laoreet.': 70, 'pulvinar.': 70, 'malesuada.': 70, 'lorem,': 70, 'consectetur,': 70, 'mi,': 70, 'bibendum.': 70, 'ullamcorper.': 70, 'elit,': 70, 'sed.': 70, 'cubilia': 70, 'Curae;': 70, 'maximus.': 70, 'metus,': 70, 'ultrices,': 60, 'iaculis.': 60, 'diam,': 60, 'non.': 60, 'facilisis,': 60, 'pretium.': 60, 'vestibulum,': 60, 'consectetur.': 60, 'eget,': 60, 'nec.': 60, 'pharetra.': 60, 'placerat.': 60, 'tempor.': 60, 'ac.': 60, 'suscipit,': 60, 'congue,': 60, 'aliquet,': 60, 'consequat.': 60, 'finibus,': 60, 'Class': 60, 'aptent': 60, 'taciti': 60, 'sociosqu': 60, 'ad': 60, 'litora': 60, 'torquent': 60, 'conubia': 60, 'nostra,': 60, 'inceptos': 60, 'himenaeos.': 60, 'luctus,': 60, 'tortor,': 60, 'tempor,': 60, 'fermentum.': 50, 'sodales,': 50, 'molestie,': 50, 'et.': 50, 'elementum,': 50, 'imperdiet.': 50, 'accumsan.': 50, 'ultricies,': 50, 'leo,': 50, 'vehicula.': 50, 'efficitur,': 50, 'lobortis.': 50, 'Interdum': 50, 'faucibus,': 50, 'commodo,': 50, 'cursus.': 50, 'dictum,': 50, 'eros,': 50, 'dapibus.': 50, 'porta,': 50, 'gravida,': 50, 'eleifend,': 50, 'pellentesque.': 50, 'semper,': 50, 'mattis.': 40, 'tristique,': 40, 'tempus.': 40, 'interdum,': 40, 'posuere.': 40, 'sodales.': 40, 'pharetra,': 40, 'rutrum,': 40, 'malesuada,': 40, 'consequat,': 40, 'potenti.': 40, 'pulvinar,': 40, 'pellentesque,': 40, 'enim,': 40, 'suscipit.': 40, 'rutrum.': 40, 'convallis,': 40, 'nunc,': 40, 'bibendum,': 40, 'fermentum,': 40, 'sagittis,': 40, 'posuere,': 40, 'ullamcorper,': 40, 'aliquam,': 40, 'facilisi.': 40, 'condimentum,': 30, 'iaculis,': 30, 'magna,': 30, 'rhoncus,': 30, 'euismod.': 30, 'vestibulum.': 30, 'laoreet,': 30, 'cursus,': 30, 'aliquam.': 30, 'auctor,': 30, 'pretium,': 30, 'accumsan,': 30, 'ornare,': 30, 'scelerisque.': 30, 'dignissim.': 30, 'vulputate,': 30, 'blandit,': 30, 'mattis,': 30, 'habitant': 30, 'morbi': 30, 'senectus': 30, 'netus': 30, 'commodo.': 30, 'venenatis.': 20, 'finibus.': 20, 'vehicula,': 20, 'imperdiet,': 20, 'vel.': 20, 'scelerisque,': 20, 'sollicitudin,': 20, 'porttitor,': 20, 'lobortis,': 20, 'varius,': 20, 'fringilla,': 20, 'sollicitudin.': 20, 'venenatis,': 20, 'dapibus,': 20, 'dignissim,': 20, 'ultricies.': 10, 'tempus,': 10, 'mollis,': 10, 'viverra,': 10, 'euismod,': 10, 'molestie.': 10, 'hendrerit,': 10, 'egestas,': 10})\n"
     ]
    }
   ],
   "source": [
    "stringTodictNoCounter = wrapper(wordsInStringToDictWordCountWithCounter, terms)\n",
    "stringTodictNoCounter_time = timeit.timeit(stringTodictNoCounter, number=1)"
   ]
  },
  {
   "cell_type": "code",
   "execution_count": 67,
   "metadata": {},
   "outputs": [
    {
     "name": "stdout",
     "output_type": "stream",
     "text": [
      "0.039288803706767794\n",
      "0.02790020838710916\n"
     ]
    }
   ],
   "source": [
    "# time taken to run the codes\n",
    "print(stringTodict_time)\n",
    "print(stringTodictNoCounter_time)"
   ]
  },
  {
   "cell_type": "code",
   "execution_count": 68,
   "metadata": {},
   "outputs": [
    {
     "name": "stdout",
     "output_type": "stream",
     "text": [
      "[0.039288803706767794, 0.02790020838710916]\n"
     ]
    }
   ],
   "source": [
    "time = (stringTodict_time, stringTodictNoCounter_time)\n",
    "print(time)"
   ]
  },
  {
   "cell_type": "code",
   "execution_count": 73,
   "metadata": {},
   "outputs": [
    {
     "data": {
      "text/plain": [
       "Text(0.5,1,'Time comparision')"
      ]
     },
     "execution_count": 73,
     "metadata": {},
     "output_type": "execute_result"
    },
    {
     "data": {
      "image/png": "[encoded data removed]",
      "text/plain": [
       "<Figure size 432x288 with 1 Axes>"
      ]
     },
     "metadata": {},
     "output_type": "display_data"
    }
   ],
   "source": [
    "plt.bar([0,1],time, color = 'orange')\n",
    "plt.xticks([0, 1], [\"Counter\", \"No Counter\"])\n",
    "plt.ylabel(\"Time\")\n",
    "plt.title(\"Time comparision\")\n"
   ]
  },
  {
   "cell_type": "markdown",
   "metadata": {},
   "source": [
    "## Part C. PyTest for Regex "
   ]
  },
  {
   "attachments": {
    "code1.PNG": {
     "image/png": "[encoded data removed]"
    }
   },
   "cell_type": "markdown",
   "metadata": {},
   "source": [
    "![code1.PNG](attachment:code1.PNG)"
   ]
  },
  {
   "cell_type": "raw",
   "metadata": {},
   "source": [
    "import regexFilesUrlsQuest as Reg\n",
    "import re, os\n",
    "\n",
    "def getTotalTestCount():\n",
    "    f = open(os.path.basename(__file__), 'r')\n",
    "    lines = f.read()\n",
    "    resList = re.findall(r'^def test_', lines, re.M)\n",
    "    return len(resList)\n",
    "\n",
    "def init():\n",
    "    tt= getTotalTestCount()\n",
    "    return tt\n",
    "\n",
    "#TESTS\n",
    "\n",
    "def test_is_valid_email1():\n",
    "    assert Reg.is_valid_email('firstname@smu.edu')==True\n",
    "\n",
    "def test_is_valid_email2():\n",
    "    assert Reg.is_valid_email('.firstname@smu.edu')==False\n",
    "\n",
    "def test_is_valid_email3():\n",
    "    assert Reg.is_valid_email('firstname.@smu_.edu')==False\n",
    "\n",
    "def test_is_valid_email4():\n",
    "    assert Reg.is_valid_email('firstname@_smu.edu')==False\n",
    "\n",
    "def test_is_valid_email5():\n",
    "    assert Reg.is_valid_email('firstname@smu_test.edu')==True\n",
    "\n",
    "def test_is_valid_email6():\n",
    "    assert Reg.is_valid_email('hi.firstname@smu.com')==True\n",
    "\n",
    "def test_is_valid_email7():\n",
    "    assert Reg.is_valid_email('firstname@smu.org')==True\n",
    "\n",
    "def test_is_valid_email8():\n",
    "    assert Reg.is_valid_email('firstname@smu.us')==False\n",
    "\n",
    "if __name__  == '__main__':\n",
    "    print (\"Processing test results...\")\n",
    "\n",
    "    initTup = init()"
   ]
  },
  {
   "cell_type": "raw",
   "metadata": {},
   "source": [
    "G:\\>cd Masters\\Fall 2018\\AAP\\Quests\\Quest3\n",
    "\n",
    "G:\\Masters\\Fall 2018\\AAP\\Quests\\Quest3>pytest\n",
    "============================= test session starts =============================\n",
    "platform win32 -- Python 3.6.5, pytest-3.5.1, py-1.5.3, pluggy-0.6.0\n",
    "rootdir: G:\\Masters\\Fall 2018\\AAP\\Quests\\Quest3, inifile:\n",
    "plugins: remotedata-0.2.1, openfiles-0.3.0, doctestplus-0.1.3, arraydiff-0.2\n",
    "collected 8 items\n",
    "\n",
    "test_regexFilesUrlsQuest.py ........                                     [100%]\n",
    "\n",
    "========================== 8 passed in 0.33 seconds ===========================\n",
    "\n",
    "G:\\Masters\\Fall 2018\\AAP\\Quests\\Quest3>"
   ]
  },
  {
   "cell_type": "markdown",
   "metadata": {},
   "source": [
    "## Part D. CSV Files"
   ]
  },
  {
   "cell_type": "code",
   "execution_count": 123,
   "metadata": {},
   "outputs": [],
   "source": [
    "import csv\n",
    "import json\n",
    "import pprint\n",
    "\n",
    "pp = pprint.PrettyPrinter(indent=3)\n",
    "\n",
    "WorldCup = []\n",
    "year = []\n",
    "location = []\n",
    "first = []\n",
    "second = []\n",
    "third = []\n",
    "fourth = []\n",
    "matches =[]\n",
    "attendance = []\n",
    "goalsScore = []\n",
    "main_dict = {}\n",
    "wc_dict = []"
   ]
  },
  {
   "cell_type": "code",
   "execution_count": 124,
   "metadata": {},
   "outputs": [
    {
     "name": "stdout",
     "output_type": "stream",
     "text": [
      "{\n",
      "  \"WC_data\": [\n",
      "    {\n",
      "      \"World Cup\": \"wc1934\",\n",
      "      \"year\": \"1934\",\n",
      "      \"location\": \"Italy\",\n",
      "      \"first\": \"Italy\",\n",
      "      \"second\": \"Czechoslovakia\",\n",
      "      \"third\": \"Germany\",\n",
      "      \"fourth\": \"Austria\",\n",
      "      \"goalscore\": 70,\n",
      "      \"match\": \"17\",\n",
      "      \"attendance\": \"363000\"\n",
      "    },\n",
      "    {\n",
      "      \"World Cup\": \"wc1938\",\n",
      "      \"year\": \"1938\",\n",
      "      \"location\": \"France\",\n",
      "      \"first\": \"Italy\",\n",
      "      \"second\": \"Hungary\",\n",
      "      \"third\": \"Brazil\",\n",
      "      \"fourth\": \"Sweden\",\n",
      "      \"goalscore\": 84,\n",
      "      \"match\": \"18\",\n",
      "      \"attendance\": \"375000\"\n",
      "    },\n",
      "    {\n",
      "      \"World Cup\": \"wc1950\",\n",
      "      \"year\": \"1950\",\n",
      "      \"location\": \"Brazil\",\n",
      "      \"first\": \"Uruguay\",\n",
      "      \"second\": \"Brazil\",\n",
      "      \"third\": \"Sweden\",\n",
      "      \"fourth\": \"Spain\",\n",
      "      \"goalscore\": 88,\n",
      "      \"match\": \"22\",\n",
      "      \"attendance\": \"1045246\"\n",
      "    },\n",
      "    {\n",
      "      \"World Cup\": \"wc1954\",\n",
      "      \"year\": \"1954\",\n",
      "      \"location\": \"Switzerland\",\n",
      "      \"first\": \"GermanyFR\",\n",
      "      \"second\": \"Hungary\",\n",
      "      \"third\": \"Austria\",\n",
      "      \"fourth\": \"Uruguay\",\n",
      "      \"goalscore\": 14,\n",
      "      \"match\": \"26\",\n",
      "      \"attendance\": \"768607\"\n",
      "    },\n",
      "    {\n",
      "      \"World Cup\": \"wc1958\",\n",
      "      \"year\": \"1958\",\n",
      "      \"location\": \"Sweden\",\n",
      "      \"first\": \"Brazil\",\n",
      "      \"second\": \"Sweden\",\n",
      "      \"third\": \"France\",\n",
      "      \"fourth\": \"GermanyFR\",\n",
      "      \"goalscore\": 126,\n",
      "      \"match\": \"35\",\n",
      "      \"attendance\": \"819810\"\n",
      "    },\n",
      "    {\n",
      "      \"World Cup\": \"wc1962\",\n",
      "      \"year\": \"1962\",\n",
      "      \"location\": \"Chile\",\n",
      "      \"first\": \"Brazil\",\n",
      "      \"second\": \"Czechoslovakia\",\n",
      "      \"third\": \"Chile\",\n",
      "      \"fourth\": \"Yugoslavia\",\n",
      "      \"goalscore\": 89,\n",
      "      \"match\": \"32\",\n",
      "      \"attendance\": \"893172\"\n",
      "    },\n",
      "    {\n",
      "      \"World Cup\": \"wc1966\",\n",
      "      \"year\": \"1966\",\n",
      "      \"location\": \"England\",\n",
      "      \"first\": \"England\",\n",
      "      \"second\": \"GermanyFR\",\n",
      "      \"third\": \"Portugal\",\n",
      "      \"fourth\": \"Soviet_Union\",\n",
      "      \"goalscore\": 89,\n",
      "      \"match\": \"32\",\n",
      "      \"attendance\": \"1563135\"\n",
      "    },\n",
      "    {\n",
      "      \"World Cup\": \"wc1970\",\n",
      "      \"year\": \"1970\",\n",
      "      \"location\": \"Mexico\",\n",
      "      \"first\": \"Brazil\",\n",
      "      \"second\": \"Italy\",\n",
      "      \"third\": \"GermanyFR\",\n",
      "      \"fourth\": \"Uruguay\",\n",
      "      \"goalscore\": 95,\n",
      "      \"match\": \"32\",\n",
      "      \"attendance\": \"1603975\"\n",
      "    },\n",
      "    {\n",
      "      \"World Cup\": \"wc1974\",\n",
      "      \"year\": \"1974\",\n",
      "      \"location\": \"Germany\",\n",
      "      \"first\": \"GermanyFR\",\n",
      "      \"second\": \"Netherlands\",\n",
      "      \"third\": \"Poland\",\n",
      "      \"fourth\": \"Brazil\",\n",
      "      \"goalscore\": 97,\n",
      "      \"match\": \"38\",\n",
      "      \"attendance\": \"1865753\"\n",
      "    },\n",
      "    {\n",
      "      \"World Cup\": \"wc1978\",\n",
      "      \"year\": \"1978\",\n",
      "      \"location\": \"Argentina\",\n",
      "      \"first\": \"Argentina\",\n",
      "      \"second\": \"Netherlands\",\n",
      "      \"third\": \"Brazil\",\n",
      "      \"fourth\": \"Italy\",\n",
      "      \"goalscore\": 102,\n",
      "      \"match\": \"38\",\n",
      "      \"attendance\": \"1545791\"\n",
      "    },\n",
      "    {\n",
      "      \"World Cup\": \"wc1982\",\n",
      "      \"year\": \"1982\",\n",
      "      \"location\": \"Spain\",\n",
      "      \"first\": \"Italy\",\n",
      "      \"second\": \"GermanyFR\",\n",
      "      \"third\": \"Poland\",\n",
      "      \"fourth\": \"France\",\n",
      "      \"goalscore\": 146,\n",
      "      \"match\": \"52\",\n",
      "      \"attendance\": \"2109723\"\n",
      "    },\n",
      "    {\n",
      "      \"World Cup\": \"wc1986\",\n",
      "      \"year\": \"1986\",\n",
      "      \"location\": \"Mexico\",\n",
      "      \"first\": \"Argentina\",\n",
      "      \"second\": \"GermanyFR\",\n",
      "      \"third\": \"France\",\n",
      "      \"fourth\": \"Belgium\",\n",
      "      \"goalscore\": 132,\n",
      "      \"match\": \"52\",\n",
      "      \"attendance\": \"2394031\"\n",
      "    },\n",
      "    {\n",
      "      \"World Cup\": \"wc1990\",\n",
      "      \"year\": \"1990\",\n",
      "      \"location\": \"Italy\",\n",
      "      \"first\": \"GermanyFR\",\n",
      "      \"second\": \"Argentina\",\n",
      "      \"third\": \"Italy\",\n",
      "      \"fourth\": \"England\",\n",
      "      \"goalscore\": 115,\n",
      "      \"match\": \"52\",\n",
      "      \"attendance\": \"2516215\"\n",
      "    },\n",
      "    {\n",
      "      \"World Cup\": \"wc1994\",\n",
      "      \"year\": \"1994\",\n",
      "      \"location\": \"USA\",\n",
      "      \"first\": \"Brazil\",\n",
      "      \"second\": \"Italy\",\n",
      "      \"third\": \"Sweden\",\n",
      "      \"fourth\": \"Bulgaria\",\n",
      "      \"goalscore\": 141,\n",
      "      \"match\": \"52\",\n",
      "      \"attendance\": \"3587538\"\n",
      "    },\n",
      "    {\n",
      "      \"World Cup\": \"wc1998\",\n",
      "      \"year\": \"1998\",\n",
      "      \"location\": \"France\",\n",
      "      \"first\": \"France\",\n",
      "      \"second\": \"Brazil\",\n",
      "      \"third\": \"Croatia\",\n",
      "      \"fourth\": \"Netherlands\",\n",
      "      \"goalscore\": 171,\n",
      "      \"match\": \"64\",\n",
      "      \"attendance\": \"2785100\"\n",
      "    },\n",
      "    {\n",
      "      \"World Cup\": \"wc2002\",\n",
      "      \"year\": \"2002\",\n",
      "      \"location\": \"Korea_Japan\",\n",
      "      \"first\": \"Brazil\",\n",
      "      \"second\": \"Germany\",\n",
      "      \"third\": \"Turkey\",\n",
      "      \"fourth\": \"KoreaRepublic\",\n",
      "      \"goalscore\": 161,\n",
      "      \"match\": \"64\",\n",
      "      \"attendance\": \"2705197\"\n",
      "    },\n",
      "    {\n",
      "      \"World Cup\": \"wc2006\",\n",
      "      \"year\": \"2006\",\n",
      "      \"location\": \"Germany\",\n",
      "      \"first\": \"Italy\",\n",
      "      \"second\": \"France\",\n",
      "      \"third\": \"Germany\",\n",
      "      \"fourth\": \"Portugal\",\n",
      "      \"goalscore\": 147,\n",
      "      \"match\": \"64\",\n",
      "      \"attendance\": \"3359439\"\n",
      "    },\n",
      "    {\n",
      "      \"World Cup\": \"wc2010\",\n",
      "      \"year\": \"2010\",\n",
      "      \"location\": \"SouthAfrica\",\n",
      "      \"first\": \"Spain\",\n",
      "      \"second\": \"Netherlands\",\n",
      "      \"third\": \"Germany\",\n",
      "      \"fourth\": \"Uruguay\",\n",
      "      \"goalscore\": 145,\n",
      "      \"match\": \"64\",\n",
      "      \"attendance\": \"3178856\"\n",
      "    },\n",
      "    {\n",
      "      \"World Cup\": \"wc2014\",\n",
      "      \"year\": \"2014\",\n",
      "      \"location\": \"Brazil\",\n",
      "      \"first\": \"Germany\",\n",
      "      \"second\": \"Argentina\",\n",
      "      \"third\": \"Netherlands\",\n",
      "      \"fourth\": \"Brazil\",\n",
      "      \"goalscore\": 171,\n",
      "      \"match\": \"64\",\n",
      "      \"attendance\": \"3386810\"\n",
      "    },\n",
      "    {\n",
      "      \"World Cup\": \"wc2018\",\n",
      "      \"year\": \"2018\",\n",
      "      \"location\": \"Russia\",\n",
      "      \"first\": \"France\",\n",
      "      \"second\": \"Croatia\",\n",
      "      \"third\": \"Belgium\",\n",
      "      \"fourth\": \"England\",\n",
      "      \"goalscore\": 169,\n",
      "      \"match\": \"64\",\n",
      "      \"attendance\": \"3430000 \"\n",
      "    }\n",
      "  ]\n",
      "}\n"
     ]
    }
   ],
   "source": [
    "with open('worldcup.csv') as csvfile:\n",
    "    readCSV = csv.DictReader(csvfile, delimiter=',')\n",
    "    for row in readCSV:\n",
    "        WC = row[\"WorldCup\"]\n",
    "        yr = row[\"year\"]\n",
    "        loc = row[\"location\"]\n",
    "        pos1 = row[\"first\"]\n",
    "        pos2 = row[\"second\"]\n",
    "        pos3 = row[\"third\"]\n",
    "        pos4 = row[\"fourth\"]\n",
    "        score = row[\"goalsScored\"]\n",
    "        match = row[\"matchesPlayed\"]\n",
    "        attend = row[\"attendance\"]\n",
    "\n",
    "        WorldCup.append(WC)\n",
    "        year.append(yr)\n",
    "        location.append(loc)\n",
    "        first.append(pos1)\n",
    "        second.append(pos2)\n",
    "        third.append(pos3)\n",
    "        fourth.append(pos4)\n",
    "        matches.append(match)\n",
    "        attendance.append(attend)\n",
    "        goalsScore.append(int(score))\n",
    "\n",
    "for a, b, c, d, e, f, g, h, i, j in zip(WorldCup[1:],year[1:], location[1:], first[1:],second[1:], third[1:],fourth[1:],goalsScore[1:],matches[1:],attendance[1:]):\n",
    "\n",
    "    temp_wc = {\"World Cup\": a,'year': b, 'location': c, 'first': d, 'second': e, 'third': f, 'fourth': g, 'goalscore': h, 'match': i, 'attendance': j}\n",
    "    wc_dict.append(temp_wc)\n",
    "# pp.pprint(wc_dict)\n",
    "\n",
    "main_dict[\"WC_data\"] = wc_dict\n",
    "json_wc = json.dumps(main_dict,indent=2)\n",
    "\n",
    "print(json_wc)"
   ]
  },
  {
   "cell_type": "markdown",
   "metadata": {},
   "source": [
    " ## 5 greatest total goals scored"
   ]
  },
  {
   "cell_type": "code",
   "execution_count": 128,
   "metadata": {},
   "outputs": [
    {
     "name": "stdout",
     "output_type": "stream",
     "text": [
      "{\n",
      "  \"World Cup\": \"wc1998\",\n",
      "  \"year\": \"1998\",\n",
      "  \"location\": \"France\",\n",
      "  \"first\": \"France\",\n",
      "  \"second\": \"Brazil\",\n",
      "  \"third\": \"Croatia\",\n",
      "  \"fourth\": \"Netherlands\",\n",
      "  \"goalscore\": 171,\n",
      "  \"match\": \"64\",\n",
      "  \"attendance\": \"2785100\"\n",
      "}\n",
      "{\n",
      "  \"World Cup\": \"wc2002\",\n",
      "  \"year\": \"2002\",\n",
      "  \"location\": \"Korea_Japan\",\n",
      "  \"first\": \"Brazil\",\n",
      "  \"second\": \"Germany\",\n",
      "  \"third\": \"Turkey\",\n",
      "  \"fourth\": \"KoreaRepublic\",\n",
      "  \"goalscore\": 161,\n",
      "  \"match\": \"64\",\n",
      "  \"attendance\": \"2705197\"\n",
      "}\n",
      "{\n",
      "  \"World Cup\": \"wc2006\",\n",
      "  \"year\": \"2006\",\n",
      "  \"location\": \"Germany\",\n",
      "  \"first\": \"Italy\",\n",
      "  \"second\": \"France\",\n",
      "  \"third\": \"Germany\",\n",
      "  \"fourth\": \"Portugal\",\n",
      "  \"goalscore\": 147,\n",
      "  \"match\": \"64\",\n",
      "  \"attendance\": \"3359439\"\n",
      "}\n",
      "{\n",
      "  \"World Cup\": \"wc2014\",\n",
      "  \"year\": \"2014\",\n",
      "  \"location\": \"Brazil\",\n",
      "  \"first\": \"Germany\",\n",
      "  \"second\": \"Argentina\",\n",
      "  \"third\": \"Netherlands\",\n",
      "  \"fourth\": \"Brazil\",\n",
      "  \"goalscore\": 171,\n",
      "  \"match\": \"64\",\n",
      "  \"attendance\": \"3386810\"\n",
      "}\n",
      "{\n",
      "  \"World Cup\": \"wc2018\",\n",
      "  \"year\": \"2018\",\n",
      "  \"location\": \"Russia\",\n",
      "  \"first\": \"France\",\n",
      "  \"second\": \"Croatia\",\n",
      "  \"third\": \"Belgium\",\n",
      "  \"fourth\": \"England\",\n",
      "  \"goalscore\": 169,\n",
      "  \"match\": \"64\",\n",
      "  \"attendance\": \"3430000 \"\n",
      "}\n"
     ]
    }
   ],
   "source": [
    "top_5 = sorted(goalsScore.copy())[-5:]\n",
    "\n",
    "for wc in main_dict[\"WC_data\"]:\n",
    "    if wc[\"goalscore\"] in top_5:\n",
    "        print(json.dumps(wc, indent=2)) "
   ]
  },
  {
   "cell_type": "markdown",
   "metadata": {},
   "source": [
    "## plot a bar chart of the goals (y-axis) vs year (x-axis)  "
   ]
  },
  {
   "cell_type": "code",
   "execution_count": 129,
   "metadata": {},
   "outputs": [
    {
     "data": {
      "image/png": "[encoded data removed]",
      "text/plain": [
       "<Figure size 432x288 with 1 Axes>"
      ]
     },
     "metadata": {},
     "output_type": "display_data"
    }
   ],
   "source": [
    "x_pos = [i for i, _ in enumerate(year)]\n",
    "\n",
    "plt.bar(x_pos, goalsScore, color='green')\n",
    "plt.xticks(x_pos, year, rotation=45)\n",
    "plt.xlabel(\"Year\")\n",
    "plt.ylabel(\"Total Goals\")\n",
    "plt.title(\"Total goals per year\")\n",
    "plt.show()"
   ]
  },
  {
   "cell_type": "code",
   "execution_count": null,
   "metadata": {},
   "outputs": [],
   "source": []
  }
 ],
 "metadata": {
  "kernelspec": {
   "display_name": "Python 3",
   "language": "python",
   "name": "python3"
  },
  "language_info": {
   "codemirror_mode": {
    "name": "ipython",
    "version": 3
   },
   "file_extension": ".py",
   "mimetype": "text/x-python",
   "name": "python",
   "nbconvert_exporter": "python",
   "pygments_lexer": "ipython3",
   "version": "3.6.5"
  }
 },
 "nbformat": 4,
 "nbformat_minor": 2
}
